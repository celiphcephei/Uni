{
 "cells": [
  {
   "cell_type": "code",
   "execution_count": 1,
   "metadata": {},
   "outputs": [],
   "source": [
    "#pip install azure-eventhub\n",
    "#pip install mysql-connector-python\n",
    "\n",
    "import time\n",
    "import os\n",
    "import asyncio\n",
    "import uuid\n",
    "import datetime\n",
    "import random\n",
    "import json\n",
    "import csv\n",
    "import mysql.connector as MySQL\n",
    "\n",
    "from datetime import timedelta\n",
    "from azure.eventhub import EventHubProducerClient, EventData"
   ]
  },
  {
   "cell_type": "code",
   "execution_count": null,
   "metadata": {},
   "outputs": [],
   "source": [
    "def data_simulation():\n",
    "    # This script simulates the production of events for 10 devices.\n",
    "    devices = []\n",
    "    for x in range(0, 10):\n",
    "        devices.append(str(uuid.uuid4()))\n",
    "\n",
    "    # Create a producer client to produce and publish events to the event hub.\n",
    "    producer = EventHubProducerClient.from_connection_string(conn_str=\"\", eventhub_name=\"\")\n",
    "\n",
    "    for y in range(0,20):    # For each device, produce 20 events. \n",
    "        event_data_batch = producer.create_batch() # Create a batch. You will add events to the batch later. \n",
    "        for dev in devices:\n",
    "            # Create a dummy reading.\n",
    "            reading = {'id': dev, 'timestamp': str(datetime.datetime.utcnow()), 'uv': random.random(), 'temperature': random.randint(70, 100), 'humidity': random.randint(70, 100)}\n",
    "            s = json.dumps(reading) # Convert the reading into a JSON string.\n",
    "            event_data_batch.add(EventData(s)) # Add event data to the batch.\n",
    "        producer.send_batch(event_data_batch) # Send the batch of events to the event hub.\n",
    "\n",
    "    # Close the producer.    \n",
    "    producer.close()\n",
    "    \n",
    "    return()"
   ]
  },
  {
   "cell_type": "code",
   "execution_count": 4,
   "metadata": {},
   "outputs": [],
   "source": [
    "def data_simulation_sql():\n",
    "    # This script simulates the production of events for 10 devices.\n",
    "    i = 0\n",
    "    devices = []\n",
    "    for x in range(0, 10):\n",
    "        devices.append(str(uuid.uuid4()))\n",
    "\n",
    "    sqlConn = MySQL.connect(host='localhost', user='root', passwd='', db='')\n",
    "    cur = sqlConn.cursor()\n",
    "\n",
    "    for y in range(0,20):    # For each device, produce 20 events. \n",
    "        for dev in devices:\n",
    "            sql = (\"INSERT INTO clima (id, fechalectura, uv, humedad, temperatura) VALUES (%s, %s, %s, %s, %s)\")\n",
    "            val = (dev, datetime.datetime.utcnow() + timedelta(seconds=i), random.random(), random.randint(70, 100), random.randint(70, 100))\n",
    "            \n",
    "            try:\n",
    "                cur.execute(sql, val)\n",
    "            except Exception as e:\n",
    "                print(e)\n",
    "\n",
    "            i=i+1\n",
    "    \n",
    "    return()"
   ]
  },
  {
   "cell_type": "code",
   "execution_count": null,
   "metadata": {},
   "outputs": [],
   "source": [
    "def data_csv(filename):\n",
    "    # Create a producer client to produce and publish events to the event hub.\n",
    "    producer = EventHubProducerClient.from_connection_string(conn_str=\"\", eventhub_name=\"\")\n",
    "    \n",
    "    event_data_batch = producer.create_batch() # Create a batch. You will add events to the batch later. \n",
    "\n",
    "    # read csvfile\n",
    "    with open(filename, 'r', encoding = 'utf8', newline='') as txtfile: \n",
    "        # creating a txt reader object \n",
    "        reader = csv.reader(txtfile, delimiter=',') \n",
    "\n",
    "        for line in reader:\n",
    "            reading = {'id': line[0], 'timestamp': str(datetime.datetime.utcnow()), 'temperature': line[1], 'humidity': line[2], 'light': line[3], 'co2': line[4], 'humidityRatio': line[5]}\n",
    "            s = json.dumps(reading) # Convert the reading into a JSON string.\n",
    "            \n",
    "            try:\n",
    "                event_data_batch.add(EventData(s)) # Add event data to the batch.\n",
    "            except ValueError:\n",
    "                # EventDataBatch object reaches max_size.\n",
    "                # New EventDataBatch object can be created here to send more data.\n",
    "                # break\n",
    "                producer.send_batch(event_data_batch) # Send the batch of events to the event hub.    \n",
    "                event_data_batch = producer.create_batch() # Create a batch. You will add events to the batch later.\n",
    "                event_data_batch.add(EventData(s)) # Add event data to the batch.\n",
    "            \n",
    "                continue\n",
    "\n",
    "    \n",
    "    producer.close() # Close the producer.\n",
    "    \n",
    "    return()"
   ]
  },
  {
   "cell_type": "code",
   "execution_count": null,
   "metadata": {},
   "outputs": [],
   "source": [
    "def data_sql():\n",
    "    # Create a producer client to produce and publish events to the event hub.\n",
    "    producer = EventHubProducerClient.from_connection_string(conn_str=\"\", eventhub_name=\"\")\n",
    "    \n",
    "    event_data_batch = producer.create_batch() # Create a batch. You will add events to the batch later. \n",
    "\n",
    "    sqlConn = MySQL.connect(host='localhost', user='root', passwd='', db='iot')\n",
    "    cur = sqlConn.cursor()\n",
    "    cur.execute(\"SELECT id, fecha, hora, valor, lectura from clima\")\n",
    "    \n",
    "    for id, fecha, hora, valor, lectura in cur.fetchall:\n",
    "        reading = {'id': id, 'fecha': fecha, 'hora': hora, 'valor': valor, 'lectura': lectura}\n",
    "        s = json.dumps(reading) # Convert the reading into a JSON string.\n",
    "            \n",
    "        try:\n",
    "            event_data_batch.add(EventData(s)) # Add event data to the batch.\n",
    "        except ValueError:\n",
    "            producer.send_batch(event_data_batch) # Send the batch of events to the event hub.    \n",
    "            event_data_batch = producer.create_batch() # Create a batch. You will add events to the batch later.\n",
    "            event_data_batch.add(EventData(s)) # Add event data to the batch.\n",
    "            \n",
    "            continue\n",
    "\n",
    "    \n",
    "    producer.close() # Close the producer.\n",
    "    \n",
    "    return()"
   ]
  },
  {
   "cell_type": "code",
   "execution_count": null,
   "metadata": {},
   "outputs": [],
   "source": [
    "async def send_event_data_batch(producer):\n",
    "    # the events will be distributed to available partitions via round-robin.\n",
    "    event_data_batch = await producer.create_batch(max_size_in_bytes=1000)\n",
    "\n",
    "    while True:\n",
    "        try:\n",
    "            event_data_batch.add(EventData('Message inside EventBatchData'))\n",
    "        except ValueError:\n",
    "            # EventDataBatch object reaches max_size.\n",
    "            # New EventDataBatch object can be created here to send more data.\n",
    "            break\n",
    "\n",
    "    await producer.send_batch(event_data_batch)"
   ]
  },
  {
   "cell_type": "code",
   "execution_count": null,
   "metadata": {},
   "outputs": [],
   "source": [
    "async def run():\n",
    "    producer = EventHubProducerClient.from_connection_string(\n",
    "        conn_str='',\n",
    "        eventhub_name=''\n",
    "    )\n",
    "    async with producer:\n",
    "        await send_event_data_batch(producer)"
   ]
  },
  {
   "cell_type": "code",
   "execution_count": 5,
   "metadata": {},
   "outputs": [
    {
     "data": {
      "text/plain": [
       "()"
      ]
     },
     "execution_count": 5,
     "metadata": {},
     "output_type": "execute_result"
    }
   ],
   "source": [
    "data_simulation_sql()"
   ]
  },
  {
   "cell_type": "code",
   "execution_count": null,
   "metadata": {},
   "outputs": [],
   "source": [
    "data_sql()"
   ]
  },
  {
   "cell_type": "code",
   "execution_count": null,
   "metadata": {},
   "outputs": [],
   "source": [
    "data_csv('DatosPruebaMQTT.csv')"
   ]
  }
 ],
 "metadata": {
  "kernelspec": {
   "display_name": "Python 3.11.0 64-bit",
   "language": "python",
   "name": "python3"
  },
  "language_info": {
   "codemirror_mode": {
    "name": "ipython",
    "version": 3
   },
   "file_extension": ".py",
   "mimetype": "text/x-python",
   "name": "python",
   "nbconvert_exporter": "python",
   "pygments_lexer": "ipython3",
   "version": "3.10.11"
  },
  "vscode": {
   "interpreter": {
    "hash": "f75ef1f2c73763b58a5cda1c2fc96498446c2db431849e767f5872682e39cdda"
   }
  }
 },
 "nbformat": 4,
 "nbformat_minor": 2
}
